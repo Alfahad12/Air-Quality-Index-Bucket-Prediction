{
  "nbformat": 4,
  "nbformat_minor": 0,
  "metadata": {
    "colab": {
      "name": "proj_Final.ipynb",
      "provenance": [],
      "collapsed_sections": [],
      "authorship_tag": "ABX9TyN/y75091ht9dwvOb0Iigjk"
    },
    "kernelspec": {
      "name": "python3",
      "display_name": "Python 3"
    },
    "language_info": {
      "name": "python"
    }
  },
  "cells": [
    {
      "cell_type": "code",
      "execution_count": null,
      "metadata": {
        "id": "t9H5RNtCphL6"
      },
      "outputs": [],
      "source": [
        "from google.colab import drive"
      ]
    },
    {
      "cell_type": "code",
      "source": [
        "drive.mount('/content/drive/')"
      ],
      "metadata": {
        "colab": {
          "base_uri": "https://localhost:8080/"
        },
        "id": "leo9iH5_pkP5",
        "outputId": "111973f3-199c-452f-a0bf-9161981eed03"
      },
      "execution_count": null,
      "outputs": [
        {
          "output_type": "stream",
          "name": "stdout",
          "text": [
            "Mounted at /content/drive/\n"
          ]
        }
      ]
    },
    {
      "cell_type": "code",
      "source": [
        "# Importing the required libraries\n",
        "import pandas as pd               \n",
        "import numpy as np\n",
        "import seaborn as sns                       #visualisation\n",
        "import matplotlib.pyplot as plt             #visualisation\n",
        "%matplotlib inline     \n",
        "sns.set(color_codes=True)"
      ],
      "metadata": {
        "id": "sFalNmxKpkSL"
      },
      "execution_count": null,
      "outputs": []
    },
    {
      "cell_type": "code",
      "source": [
        "df=pd.read_csv('/content/drive/MyDrive/data/city_day.csv')"
      ],
      "metadata": {
        "id": "8Wu66oWepkUX"
      },
      "execution_count": null,
      "outputs": []
    },
    {
      "cell_type": "code",
      "source": [
        "df"
      ],
      "metadata": {
        "colab": {
          "base_uri": "https://localhost:8080/",
          "height": 423
        },
        "id": "qwdou04npkW5",
        "outputId": "b0370e7c-9002-4c05-e8fc-c1e8b3dad506"
      },
      "execution_count": null,
      "outputs": [
        {
          "output_type": "execute_result",
          "data": {
            "text/html": [
              "\n",
              "  <div id=\"df-0decea50-bec8-493c-9c5d-7165d237fff2\">\n",
              "    <div class=\"colab-df-container\">\n",
              "      <div>\n",
              "<style scoped>\n",
              "    .dataframe tbody tr th:only-of-type {\n",
              "        vertical-align: middle;\n",
              "    }\n",
              "\n",
              "    .dataframe tbody tr th {\n",
              "        vertical-align: top;\n",
              "    }\n",
              "\n",
              "    .dataframe thead th {\n",
              "        text-align: right;\n",
              "    }\n",
              "</style>\n",
              "<table border=\"1\" class=\"dataframe\">\n",
              "  <thead>\n",
              "    <tr style=\"text-align: right;\">\n",
              "      <th></th>\n",
              "      <th>City</th>\n",
              "      <th>Date</th>\n",
              "      <th>PM2.5</th>\n",
              "      <th>PM10</th>\n",
              "      <th>NO</th>\n",
              "      <th>NO2</th>\n",
              "      <th>NOx</th>\n",
              "      <th>NH3</th>\n",
              "      <th>CO</th>\n",
              "      <th>SO2</th>\n",
              "      <th>O3</th>\n",
              "      <th>Benzene</th>\n",
              "      <th>Toluene</th>\n",
              "      <th>Xylene</th>\n",
              "      <th>AQI</th>\n",
              "      <th>AQI_Bucket</th>\n",
              "    </tr>\n",
              "  </thead>\n",
              "  <tbody>\n",
              "    <tr>\n",
              "      <th>0</th>\n",
              "      <td>Ahmedabad</td>\n",
              "      <td>2015-01-01</td>\n",
              "      <td>NaN</td>\n",
              "      <td>NaN</td>\n",
              "      <td>0.92</td>\n",
              "      <td>18.22</td>\n",
              "      <td>17.15</td>\n",
              "      <td>NaN</td>\n",
              "      <td>0.92</td>\n",
              "      <td>27.64</td>\n",
              "      <td>133.36</td>\n",
              "      <td>0.00</td>\n",
              "      <td>0.02</td>\n",
              "      <td>0.00</td>\n",
              "      <td>NaN</td>\n",
              "      <td>NaN</td>\n",
              "    </tr>\n",
              "    <tr>\n",
              "      <th>1</th>\n",
              "      <td>Ahmedabad</td>\n",
              "      <td>2015-01-02</td>\n",
              "      <td>NaN</td>\n",
              "      <td>NaN</td>\n",
              "      <td>0.97</td>\n",
              "      <td>15.69</td>\n",
              "      <td>16.46</td>\n",
              "      <td>NaN</td>\n",
              "      <td>0.97</td>\n",
              "      <td>24.55</td>\n",
              "      <td>34.06</td>\n",
              "      <td>3.68</td>\n",
              "      <td>5.50</td>\n",
              "      <td>3.77</td>\n",
              "      <td>NaN</td>\n",
              "      <td>NaN</td>\n",
              "    </tr>\n",
              "    <tr>\n",
              "      <th>2</th>\n",
              "      <td>Ahmedabad</td>\n",
              "      <td>2015-01-03</td>\n",
              "      <td>NaN</td>\n",
              "      <td>NaN</td>\n",
              "      <td>17.40</td>\n",
              "      <td>19.30</td>\n",
              "      <td>29.70</td>\n",
              "      <td>NaN</td>\n",
              "      <td>17.40</td>\n",
              "      <td>29.07</td>\n",
              "      <td>30.70</td>\n",
              "      <td>6.80</td>\n",
              "      <td>16.40</td>\n",
              "      <td>2.25</td>\n",
              "      <td>NaN</td>\n",
              "      <td>NaN</td>\n",
              "    </tr>\n",
              "    <tr>\n",
              "      <th>3</th>\n",
              "      <td>Ahmedabad</td>\n",
              "      <td>2015-01-04</td>\n",
              "      <td>NaN</td>\n",
              "      <td>NaN</td>\n",
              "      <td>1.70</td>\n",
              "      <td>18.48</td>\n",
              "      <td>17.97</td>\n",
              "      <td>NaN</td>\n",
              "      <td>1.70</td>\n",
              "      <td>18.59</td>\n",
              "      <td>36.08</td>\n",
              "      <td>4.43</td>\n",
              "      <td>10.14</td>\n",
              "      <td>1.00</td>\n",
              "      <td>NaN</td>\n",
              "      <td>NaN</td>\n",
              "    </tr>\n",
              "    <tr>\n",
              "      <th>4</th>\n",
              "      <td>Ahmedabad</td>\n",
              "      <td>2015-01-05</td>\n",
              "      <td>NaN</td>\n",
              "      <td>NaN</td>\n",
              "      <td>22.10</td>\n",
              "      <td>21.42</td>\n",
              "      <td>37.76</td>\n",
              "      <td>NaN</td>\n",
              "      <td>22.10</td>\n",
              "      <td>39.33</td>\n",
              "      <td>39.31</td>\n",
              "      <td>7.01</td>\n",
              "      <td>18.89</td>\n",
              "      <td>2.78</td>\n",
              "      <td>NaN</td>\n",
              "      <td>NaN</td>\n",
              "    </tr>\n",
              "    <tr>\n",
              "      <th>...</th>\n",
              "      <td>...</td>\n",
              "      <td>...</td>\n",
              "      <td>...</td>\n",
              "      <td>...</td>\n",
              "      <td>...</td>\n",
              "      <td>...</td>\n",
              "      <td>...</td>\n",
              "      <td>...</td>\n",
              "      <td>...</td>\n",
              "      <td>...</td>\n",
              "      <td>...</td>\n",
              "      <td>...</td>\n",
              "      <td>...</td>\n",
              "      <td>...</td>\n",
              "      <td>...</td>\n",
              "      <td>...</td>\n",
              "    </tr>\n",
              "    <tr>\n",
              "      <th>29526</th>\n",
              "      <td>Visakhapatnam</td>\n",
              "      <td>2020-06-27</td>\n",
              "      <td>15.02</td>\n",
              "      <td>50.94</td>\n",
              "      <td>7.68</td>\n",
              "      <td>25.06</td>\n",
              "      <td>19.54</td>\n",
              "      <td>12.47</td>\n",
              "      <td>0.47</td>\n",
              "      <td>8.55</td>\n",
              "      <td>23.30</td>\n",
              "      <td>2.24</td>\n",
              "      <td>12.07</td>\n",
              "      <td>0.73</td>\n",
              "      <td>41.0</td>\n",
              "      <td>Good</td>\n",
              "    </tr>\n",
              "    <tr>\n",
              "      <th>29527</th>\n",
              "      <td>Visakhapatnam</td>\n",
              "      <td>2020-06-28</td>\n",
              "      <td>24.38</td>\n",
              "      <td>74.09</td>\n",
              "      <td>3.42</td>\n",
              "      <td>26.06</td>\n",
              "      <td>16.53</td>\n",
              "      <td>11.99</td>\n",
              "      <td>0.52</td>\n",
              "      <td>12.72</td>\n",
              "      <td>30.14</td>\n",
              "      <td>0.74</td>\n",
              "      <td>2.21</td>\n",
              "      <td>0.38</td>\n",
              "      <td>70.0</td>\n",
              "      <td>Satisfactory</td>\n",
              "    </tr>\n",
              "    <tr>\n",
              "      <th>29528</th>\n",
              "      <td>Visakhapatnam</td>\n",
              "      <td>2020-06-29</td>\n",
              "      <td>22.91</td>\n",
              "      <td>65.73</td>\n",
              "      <td>3.45</td>\n",
              "      <td>29.53</td>\n",
              "      <td>18.33</td>\n",
              "      <td>10.71</td>\n",
              "      <td>0.48</td>\n",
              "      <td>8.42</td>\n",
              "      <td>30.96</td>\n",
              "      <td>0.01</td>\n",
              "      <td>0.01</td>\n",
              "      <td>0.00</td>\n",
              "      <td>68.0</td>\n",
              "      <td>Satisfactory</td>\n",
              "    </tr>\n",
              "    <tr>\n",
              "      <th>29529</th>\n",
              "      <td>Visakhapatnam</td>\n",
              "      <td>2020-06-30</td>\n",
              "      <td>16.64</td>\n",
              "      <td>49.97</td>\n",
              "      <td>4.05</td>\n",
              "      <td>29.26</td>\n",
              "      <td>18.80</td>\n",
              "      <td>10.03</td>\n",
              "      <td>0.52</td>\n",
              "      <td>9.84</td>\n",
              "      <td>28.30</td>\n",
              "      <td>0.00</td>\n",
              "      <td>0.00</td>\n",
              "      <td>0.00</td>\n",
              "      <td>54.0</td>\n",
              "      <td>Satisfactory</td>\n",
              "    </tr>\n",
              "    <tr>\n",
              "      <th>29530</th>\n",
              "      <td>Visakhapatnam</td>\n",
              "      <td>2020-07-01</td>\n",
              "      <td>15.00</td>\n",
              "      <td>66.00</td>\n",
              "      <td>0.40</td>\n",
              "      <td>26.85</td>\n",
              "      <td>14.05</td>\n",
              "      <td>5.20</td>\n",
              "      <td>0.59</td>\n",
              "      <td>2.10</td>\n",
              "      <td>17.05</td>\n",
              "      <td>NaN</td>\n",
              "      <td>NaN</td>\n",
              "      <td>NaN</td>\n",
              "      <td>50.0</td>\n",
              "      <td>Good</td>\n",
              "    </tr>\n",
              "  </tbody>\n",
              "</table>\n",
              "<p>29531 rows × 16 columns</p>\n",
              "</div>\n",
              "      <button class=\"colab-df-convert\" onclick=\"convertToInteractive('df-0decea50-bec8-493c-9c5d-7165d237fff2')\"\n",
              "              title=\"Convert this dataframe to an interactive table.\"\n",
              "              style=\"display:none;\">\n",
              "        \n",
              "  <svg xmlns=\"http://www.w3.org/2000/svg\" height=\"24px\"viewBox=\"0 0 24 24\"\n",
              "       width=\"24px\">\n",
              "    <path d=\"M0 0h24v24H0V0z\" fill=\"none\"/>\n",
              "    <path d=\"M18.56 5.44l.94 2.06.94-2.06 2.06-.94-2.06-.94-.94-2.06-.94 2.06-2.06.94zm-11 1L8.5 8.5l.94-2.06 2.06-.94-2.06-.94L8.5 2.5l-.94 2.06-2.06.94zm10 10l.94 2.06.94-2.06 2.06-.94-2.06-.94-.94-2.06-.94 2.06-2.06.94z\"/><path d=\"M17.41 7.96l-1.37-1.37c-.4-.4-.92-.59-1.43-.59-.52 0-1.04.2-1.43.59L10.3 9.45l-7.72 7.72c-.78.78-.78 2.05 0 2.83L4 21.41c.39.39.9.59 1.41.59.51 0 1.02-.2 1.41-.59l7.78-7.78 2.81-2.81c.8-.78.8-2.07 0-2.86zM5.41 20L4 18.59l7.72-7.72 1.47 1.35L5.41 20z\"/>\n",
              "  </svg>\n",
              "      </button>\n",
              "      \n",
              "  <style>\n",
              "    .colab-df-container {\n",
              "      display:flex;\n",
              "      flex-wrap:wrap;\n",
              "      gap: 12px;\n",
              "    }\n",
              "\n",
              "    .colab-df-convert {\n",
              "      background-color: #E8F0FE;\n",
              "      border: none;\n",
              "      border-radius: 50%;\n",
              "      cursor: pointer;\n",
              "      display: none;\n",
              "      fill: #1967D2;\n",
              "      height: 32px;\n",
              "      padding: 0 0 0 0;\n",
              "      width: 32px;\n",
              "    }\n",
              "\n",
              "    .colab-df-convert:hover {\n",
              "      background-color: #E2EBFA;\n",
              "      box-shadow: 0px 1px 2px rgba(60, 64, 67, 0.3), 0px 1px 3px 1px rgba(60, 64, 67, 0.15);\n",
              "      fill: #174EA6;\n",
              "    }\n",
              "\n",
              "    [theme=dark] .colab-df-convert {\n",
              "      background-color: #3B4455;\n",
              "      fill: #D2E3FC;\n",
              "    }\n",
              "\n",
              "    [theme=dark] .colab-df-convert:hover {\n",
              "      background-color: #434B5C;\n",
              "      box-shadow: 0px 1px 3px 1px rgba(0, 0, 0, 0.15);\n",
              "      filter: drop-shadow(0px 1px 2px rgba(0, 0, 0, 0.3));\n",
              "      fill: #FFFFFF;\n",
              "    }\n",
              "  </style>\n",
              "\n",
              "      <script>\n",
              "        const buttonEl =\n",
              "          document.querySelector('#df-0decea50-bec8-493c-9c5d-7165d237fff2 button.colab-df-convert');\n",
              "        buttonEl.style.display =\n",
              "          google.colab.kernel.accessAllowed ? 'block' : 'none';\n",
              "\n",
              "        async function convertToInteractive(key) {\n",
              "          const element = document.querySelector('#df-0decea50-bec8-493c-9c5d-7165d237fff2');\n",
              "          const dataTable =\n",
              "            await google.colab.kernel.invokeFunction('convertToInteractive',\n",
              "                                                     [key], {});\n",
              "          if (!dataTable) return;\n",
              "\n",
              "          const docLinkHtml = 'Like what you see? Visit the ' +\n",
              "            '<a target=\"_blank\" href=https://colab.research.google.com/notebooks/data_table.ipynb>data table notebook</a>'\n",
              "            + ' to learn more about interactive tables.';\n",
              "          element.innerHTML = '';\n",
              "          dataTable['output_type'] = 'display_data';\n",
              "          await google.colab.output.renderOutput(dataTable, element);\n",
              "          const docLink = document.createElement('div');\n",
              "          docLink.innerHTML = docLinkHtml;\n",
              "          element.appendChild(docLink);\n",
              "        }\n",
              "      </script>\n",
              "    </div>\n",
              "  </div>\n",
              "  "
            ],
            "text/plain": [
              "                City        Date  PM2.5  ...  Xylene   AQI    AQI_Bucket\n",
              "0          Ahmedabad  2015-01-01    NaN  ...    0.00   NaN           NaN\n",
              "1          Ahmedabad  2015-01-02    NaN  ...    3.77   NaN           NaN\n",
              "2          Ahmedabad  2015-01-03    NaN  ...    2.25   NaN           NaN\n",
              "3          Ahmedabad  2015-01-04    NaN  ...    1.00   NaN           NaN\n",
              "4          Ahmedabad  2015-01-05    NaN  ...    2.78   NaN           NaN\n",
              "...              ...         ...    ...  ...     ...   ...           ...\n",
              "29526  Visakhapatnam  2020-06-27  15.02  ...    0.73  41.0          Good\n",
              "29527  Visakhapatnam  2020-06-28  24.38  ...    0.38  70.0  Satisfactory\n",
              "29528  Visakhapatnam  2020-06-29  22.91  ...    0.00  68.0  Satisfactory\n",
              "29529  Visakhapatnam  2020-06-30  16.64  ...    0.00  54.0  Satisfactory\n",
              "29530  Visakhapatnam  2020-07-01  15.00  ...     NaN  50.0          Good\n",
              "\n",
              "[29531 rows x 16 columns]"
            ]
          },
          "metadata": {},
          "execution_count": 6
        }
      ]
    },
    {
      "cell_type": "code",
      "source": [
        "df.head(7)"
      ],
      "metadata": {
        "colab": {
          "base_uri": "https://localhost:8080/",
          "height": 269
        },
        "id": "dMl8ANR0pkZy",
        "outputId": "99575486-4ecd-4669-a2eb-d9813c62c112"
      },
      "execution_count": null,
      "outputs": [
        {
          "output_type": "execute_result",
          "data": {
            "text/html": [
              "\n",
              "  <div id=\"df-7013fc41-33a6-4c90-99cf-cee47f48b677\">\n",
              "    <div class=\"colab-df-container\">\n",
              "      <div>\n",
              "<style scoped>\n",
              "    .dataframe tbody tr th:only-of-type {\n",
              "        vertical-align: middle;\n",
              "    }\n",
              "\n",
              "    .dataframe tbody tr th {\n",
              "        vertical-align: top;\n",
              "    }\n",
              "\n",
              "    .dataframe thead th {\n",
              "        text-align: right;\n",
              "    }\n",
              "</style>\n",
              "<table border=\"1\" class=\"dataframe\">\n",
              "  <thead>\n",
              "    <tr style=\"text-align: right;\">\n",
              "      <th></th>\n",
              "      <th>City</th>\n",
              "      <th>Date</th>\n",
              "      <th>PM2.5</th>\n",
              "      <th>PM10</th>\n",
              "      <th>NO</th>\n",
              "      <th>NO2</th>\n",
              "      <th>NOx</th>\n",
              "      <th>NH3</th>\n",
              "      <th>CO</th>\n",
              "      <th>SO2</th>\n",
              "      <th>O3</th>\n",
              "      <th>Benzene</th>\n",
              "      <th>Toluene</th>\n",
              "      <th>Xylene</th>\n",
              "      <th>AQI</th>\n",
              "      <th>AQI_Bucket</th>\n",
              "    </tr>\n",
              "  </thead>\n",
              "  <tbody>\n",
              "    <tr>\n",
              "      <th>0</th>\n",
              "      <td>Ahmedabad</td>\n",
              "      <td>2015-01-01</td>\n",
              "      <td>NaN</td>\n",
              "      <td>NaN</td>\n",
              "      <td>0.92</td>\n",
              "      <td>18.22</td>\n",
              "      <td>17.15</td>\n",
              "      <td>NaN</td>\n",
              "      <td>0.92</td>\n",
              "      <td>27.64</td>\n",
              "      <td>133.36</td>\n",
              "      <td>0.00</td>\n",
              "      <td>0.02</td>\n",
              "      <td>0.00</td>\n",
              "      <td>NaN</td>\n",
              "      <td>NaN</td>\n",
              "    </tr>\n",
              "    <tr>\n",
              "      <th>1</th>\n",
              "      <td>Ahmedabad</td>\n",
              "      <td>2015-01-02</td>\n",
              "      <td>NaN</td>\n",
              "      <td>NaN</td>\n",
              "      <td>0.97</td>\n",
              "      <td>15.69</td>\n",
              "      <td>16.46</td>\n",
              "      <td>NaN</td>\n",
              "      <td>0.97</td>\n",
              "      <td>24.55</td>\n",
              "      <td>34.06</td>\n",
              "      <td>3.68</td>\n",
              "      <td>5.50</td>\n",
              "      <td>3.77</td>\n",
              "      <td>NaN</td>\n",
              "      <td>NaN</td>\n",
              "    </tr>\n",
              "    <tr>\n",
              "      <th>2</th>\n",
              "      <td>Ahmedabad</td>\n",
              "      <td>2015-01-03</td>\n",
              "      <td>NaN</td>\n",
              "      <td>NaN</td>\n",
              "      <td>17.40</td>\n",
              "      <td>19.30</td>\n",
              "      <td>29.70</td>\n",
              "      <td>NaN</td>\n",
              "      <td>17.40</td>\n",
              "      <td>29.07</td>\n",
              "      <td>30.70</td>\n",
              "      <td>6.80</td>\n",
              "      <td>16.40</td>\n",
              "      <td>2.25</td>\n",
              "      <td>NaN</td>\n",
              "      <td>NaN</td>\n",
              "    </tr>\n",
              "    <tr>\n",
              "      <th>3</th>\n",
              "      <td>Ahmedabad</td>\n",
              "      <td>2015-01-04</td>\n",
              "      <td>NaN</td>\n",
              "      <td>NaN</td>\n",
              "      <td>1.70</td>\n",
              "      <td>18.48</td>\n",
              "      <td>17.97</td>\n",
              "      <td>NaN</td>\n",
              "      <td>1.70</td>\n",
              "      <td>18.59</td>\n",
              "      <td>36.08</td>\n",
              "      <td>4.43</td>\n",
              "      <td>10.14</td>\n",
              "      <td>1.00</td>\n",
              "      <td>NaN</td>\n",
              "      <td>NaN</td>\n",
              "    </tr>\n",
              "    <tr>\n",
              "      <th>4</th>\n",
              "      <td>Ahmedabad</td>\n",
              "      <td>2015-01-05</td>\n",
              "      <td>NaN</td>\n",
              "      <td>NaN</td>\n",
              "      <td>22.10</td>\n",
              "      <td>21.42</td>\n",
              "      <td>37.76</td>\n",
              "      <td>NaN</td>\n",
              "      <td>22.10</td>\n",
              "      <td>39.33</td>\n",
              "      <td>39.31</td>\n",
              "      <td>7.01</td>\n",
              "      <td>18.89</td>\n",
              "      <td>2.78</td>\n",
              "      <td>NaN</td>\n",
              "      <td>NaN</td>\n",
              "    </tr>\n",
              "    <tr>\n",
              "      <th>5</th>\n",
              "      <td>Ahmedabad</td>\n",
              "      <td>2015-01-06</td>\n",
              "      <td>NaN</td>\n",
              "      <td>NaN</td>\n",
              "      <td>45.41</td>\n",
              "      <td>38.48</td>\n",
              "      <td>81.50</td>\n",
              "      <td>NaN</td>\n",
              "      <td>45.41</td>\n",
              "      <td>45.76</td>\n",
              "      <td>46.51</td>\n",
              "      <td>5.42</td>\n",
              "      <td>10.83</td>\n",
              "      <td>1.93</td>\n",
              "      <td>NaN</td>\n",
              "      <td>NaN</td>\n",
              "    </tr>\n",
              "    <tr>\n",
              "      <th>6</th>\n",
              "      <td>Ahmedabad</td>\n",
              "      <td>2015-01-07</td>\n",
              "      <td>NaN</td>\n",
              "      <td>NaN</td>\n",
              "      <td>112.16</td>\n",
              "      <td>40.62</td>\n",
              "      <td>130.77</td>\n",
              "      <td>NaN</td>\n",
              "      <td>112.16</td>\n",
              "      <td>32.28</td>\n",
              "      <td>33.47</td>\n",
              "      <td>0.00</td>\n",
              "      <td>0.00</td>\n",
              "      <td>0.00</td>\n",
              "      <td>NaN</td>\n",
              "      <td>NaN</td>\n",
              "    </tr>\n",
              "  </tbody>\n",
              "</table>\n",
              "</div>\n",
              "      <button class=\"colab-df-convert\" onclick=\"convertToInteractive('df-7013fc41-33a6-4c90-99cf-cee47f48b677')\"\n",
              "              title=\"Convert this dataframe to an interactive table.\"\n",
              "              style=\"display:none;\">\n",
              "        \n",
              "  <svg xmlns=\"http://www.w3.org/2000/svg\" height=\"24px\"viewBox=\"0 0 24 24\"\n",
              "       width=\"24px\">\n",
              "    <path d=\"M0 0h24v24H0V0z\" fill=\"none\"/>\n",
              "    <path d=\"M18.56 5.44l.94 2.06.94-2.06 2.06-.94-2.06-.94-.94-2.06-.94 2.06-2.06.94zm-11 1L8.5 8.5l.94-2.06 2.06-.94-2.06-.94L8.5 2.5l-.94 2.06-2.06.94zm10 10l.94 2.06.94-2.06 2.06-.94-2.06-.94-.94-2.06-.94 2.06-2.06.94z\"/><path d=\"M17.41 7.96l-1.37-1.37c-.4-.4-.92-.59-1.43-.59-.52 0-1.04.2-1.43.59L10.3 9.45l-7.72 7.72c-.78.78-.78 2.05 0 2.83L4 21.41c.39.39.9.59 1.41.59.51 0 1.02-.2 1.41-.59l7.78-7.78 2.81-2.81c.8-.78.8-2.07 0-2.86zM5.41 20L4 18.59l7.72-7.72 1.47 1.35L5.41 20z\"/>\n",
              "  </svg>\n",
              "      </button>\n",
              "      \n",
              "  <style>\n",
              "    .colab-df-container {\n",
              "      display:flex;\n",
              "      flex-wrap:wrap;\n",
              "      gap: 12px;\n",
              "    }\n",
              "\n",
              "    .colab-df-convert {\n",
              "      background-color: #E8F0FE;\n",
              "      border: none;\n",
              "      border-radius: 50%;\n",
              "      cursor: pointer;\n",
              "      display: none;\n",
              "      fill: #1967D2;\n",
              "      height: 32px;\n",
              "      padding: 0 0 0 0;\n",
              "      width: 32px;\n",
              "    }\n",
              "\n",
              "    .colab-df-convert:hover {\n",
              "      background-color: #E2EBFA;\n",
              "      box-shadow: 0px 1px 2px rgba(60, 64, 67, 0.3), 0px 1px 3px 1px rgba(60, 64, 67, 0.15);\n",
              "      fill: #174EA6;\n",
              "    }\n",
              "\n",
              "    [theme=dark] .colab-df-convert {\n",
              "      background-color: #3B4455;\n",
              "      fill: #D2E3FC;\n",
              "    }\n",
              "\n",
              "    [theme=dark] .colab-df-convert:hover {\n",
              "      background-color: #434B5C;\n",
              "      box-shadow: 0px 1px 3px 1px rgba(0, 0, 0, 0.15);\n",
              "      filter: drop-shadow(0px 1px 2px rgba(0, 0, 0, 0.3));\n",
              "      fill: #FFFFFF;\n",
              "    }\n",
              "  </style>\n",
              "\n",
              "      <script>\n",
              "        const buttonEl =\n",
              "          document.querySelector('#df-7013fc41-33a6-4c90-99cf-cee47f48b677 button.colab-df-convert');\n",
              "        buttonEl.style.display =\n",
              "          google.colab.kernel.accessAllowed ? 'block' : 'none';\n",
              "\n",
              "        async function convertToInteractive(key) {\n",
              "          const element = document.querySelector('#df-7013fc41-33a6-4c90-99cf-cee47f48b677');\n",
              "          const dataTable =\n",
              "            await google.colab.kernel.invokeFunction('convertToInteractive',\n",
              "                                                     [key], {});\n",
              "          if (!dataTable) return;\n",
              "\n",
              "          const docLinkHtml = 'Like what you see? Visit the ' +\n",
              "            '<a target=\"_blank\" href=https://colab.research.google.com/notebooks/data_table.ipynb>data table notebook</a>'\n",
              "            + ' to learn more about interactive tables.';\n",
              "          element.innerHTML = '';\n",
              "          dataTable['output_type'] = 'display_data';\n",
              "          await google.colab.output.renderOutput(dataTable, element);\n",
              "          const docLink = document.createElement('div');\n",
              "          docLink.innerHTML = docLinkHtml;\n",
              "          element.appendChild(docLink);\n",
              "        }\n",
              "      </script>\n",
              "    </div>\n",
              "  </div>\n",
              "  "
            ],
            "text/plain": [
              "        City        Date  PM2.5  PM10  ...  Toluene  Xylene  AQI  AQI_Bucket\n",
              "0  Ahmedabad  2015-01-01    NaN   NaN  ...     0.02    0.00  NaN         NaN\n",
              "1  Ahmedabad  2015-01-02    NaN   NaN  ...     5.50    3.77  NaN         NaN\n",
              "2  Ahmedabad  2015-01-03    NaN   NaN  ...    16.40    2.25  NaN         NaN\n",
              "3  Ahmedabad  2015-01-04    NaN   NaN  ...    10.14    1.00  NaN         NaN\n",
              "4  Ahmedabad  2015-01-05    NaN   NaN  ...    18.89    2.78  NaN         NaN\n",
              "5  Ahmedabad  2015-01-06    NaN   NaN  ...    10.83    1.93  NaN         NaN\n",
              "6  Ahmedabad  2015-01-07    NaN   NaN  ...     0.00    0.00  NaN         NaN\n",
              "\n",
              "[7 rows x 16 columns]"
            ]
          },
          "metadata": {},
          "execution_count": 6
        }
      ]
    },
    {
      "cell_type": "code",
      "source": [
        "df=df.drop(['Date'],axis=1)\n",
        "df.head()"
      ],
      "metadata": {
        "colab": {
          "base_uri": "https://localhost:8080/",
          "height": 206
        },
        "id": "1SCK9-qTpkcY",
        "outputId": "39cd9605-9f2e-41b6-99f3-e7d3412717c4"
      },
      "execution_count": null,
      "outputs": [
        {
          "output_type": "execute_result",
          "data": {
            "text/html": [
              "\n",
              "  <div id=\"df-4c9b35f6-12ab-45b0-af9d-7c5fa13dd2fa\">\n",
              "    <div class=\"colab-df-container\">\n",
              "      <div>\n",
              "<style scoped>\n",
              "    .dataframe tbody tr th:only-of-type {\n",
              "        vertical-align: middle;\n",
              "    }\n",
              "\n",
              "    .dataframe tbody tr th {\n",
              "        vertical-align: top;\n",
              "    }\n",
              "\n",
              "    .dataframe thead th {\n",
              "        text-align: right;\n",
              "    }\n",
              "</style>\n",
              "<table border=\"1\" class=\"dataframe\">\n",
              "  <thead>\n",
              "    <tr style=\"text-align: right;\">\n",
              "      <th></th>\n",
              "      <th>City</th>\n",
              "      <th>PM2.5</th>\n",
              "      <th>PM10</th>\n",
              "      <th>NO</th>\n",
              "      <th>NO2</th>\n",
              "      <th>NOx</th>\n",
              "      <th>NH3</th>\n",
              "      <th>CO</th>\n",
              "      <th>SO2</th>\n",
              "      <th>O3</th>\n",
              "      <th>Benzene</th>\n",
              "      <th>Toluene</th>\n",
              "      <th>Xylene</th>\n",
              "      <th>AQI</th>\n",
              "      <th>AQI_Bucket</th>\n",
              "    </tr>\n",
              "  </thead>\n",
              "  <tbody>\n",
              "    <tr>\n",
              "      <th>0</th>\n",
              "      <td>Ahmedabad</td>\n",
              "      <td>NaN</td>\n",
              "      <td>NaN</td>\n",
              "      <td>0.92</td>\n",
              "      <td>18.22</td>\n",
              "      <td>17.15</td>\n",
              "      <td>NaN</td>\n",
              "      <td>0.92</td>\n",
              "      <td>27.64</td>\n",
              "      <td>133.36</td>\n",
              "      <td>0.00</td>\n",
              "      <td>0.02</td>\n",
              "      <td>0.00</td>\n",
              "      <td>NaN</td>\n",
              "      <td>NaN</td>\n",
              "    </tr>\n",
              "    <tr>\n",
              "      <th>1</th>\n",
              "      <td>Ahmedabad</td>\n",
              "      <td>NaN</td>\n",
              "      <td>NaN</td>\n",
              "      <td>0.97</td>\n",
              "      <td>15.69</td>\n",
              "      <td>16.46</td>\n",
              "      <td>NaN</td>\n",
              "      <td>0.97</td>\n",
              "      <td>24.55</td>\n",
              "      <td>34.06</td>\n",
              "      <td>3.68</td>\n",
              "      <td>5.50</td>\n",
              "      <td>3.77</td>\n",
              "      <td>NaN</td>\n",
              "      <td>NaN</td>\n",
              "    </tr>\n",
              "    <tr>\n",
              "      <th>2</th>\n",
              "      <td>Ahmedabad</td>\n",
              "      <td>NaN</td>\n",
              "      <td>NaN</td>\n",
              "      <td>17.40</td>\n",
              "      <td>19.30</td>\n",
              "      <td>29.70</td>\n",
              "      <td>NaN</td>\n",
              "      <td>17.40</td>\n",
              "      <td>29.07</td>\n",
              "      <td>30.70</td>\n",
              "      <td>6.80</td>\n",
              "      <td>16.40</td>\n",
              "      <td>2.25</td>\n",
              "      <td>NaN</td>\n",
              "      <td>NaN</td>\n",
              "    </tr>\n",
              "    <tr>\n",
              "      <th>3</th>\n",
              "      <td>Ahmedabad</td>\n",
              "      <td>NaN</td>\n",
              "      <td>NaN</td>\n",
              "      <td>1.70</td>\n",
              "      <td>18.48</td>\n",
              "      <td>17.97</td>\n",
              "      <td>NaN</td>\n",
              "      <td>1.70</td>\n",
              "      <td>18.59</td>\n",
              "      <td>36.08</td>\n",
              "      <td>4.43</td>\n",
              "      <td>10.14</td>\n",
              "      <td>1.00</td>\n",
              "      <td>NaN</td>\n",
              "      <td>NaN</td>\n",
              "    </tr>\n",
              "    <tr>\n",
              "      <th>4</th>\n",
              "      <td>Ahmedabad</td>\n",
              "      <td>NaN</td>\n",
              "      <td>NaN</td>\n",
              "      <td>22.10</td>\n",
              "      <td>21.42</td>\n",
              "      <td>37.76</td>\n",
              "      <td>NaN</td>\n",
              "      <td>22.10</td>\n",
              "      <td>39.33</td>\n",
              "      <td>39.31</td>\n",
              "      <td>7.01</td>\n",
              "      <td>18.89</td>\n",
              "      <td>2.78</td>\n",
              "      <td>NaN</td>\n",
              "      <td>NaN</td>\n",
              "    </tr>\n",
              "  </tbody>\n",
              "</table>\n",
              "</div>\n",
              "      <button class=\"colab-df-convert\" onclick=\"convertToInteractive('df-4c9b35f6-12ab-45b0-af9d-7c5fa13dd2fa')\"\n",
              "              title=\"Convert this dataframe to an interactive table.\"\n",
              "              style=\"display:none;\">\n",
              "        \n",
              "  <svg xmlns=\"http://www.w3.org/2000/svg\" height=\"24px\"viewBox=\"0 0 24 24\"\n",
              "       width=\"24px\">\n",
              "    <path d=\"M0 0h24v24H0V0z\" fill=\"none\"/>\n",
              "    <path d=\"M18.56 5.44l.94 2.06.94-2.06 2.06-.94-2.06-.94-.94-2.06-.94 2.06-2.06.94zm-11 1L8.5 8.5l.94-2.06 2.06-.94-2.06-.94L8.5 2.5l-.94 2.06-2.06.94zm10 10l.94 2.06.94-2.06 2.06-.94-2.06-.94-.94-2.06-.94 2.06-2.06.94z\"/><path d=\"M17.41 7.96l-1.37-1.37c-.4-.4-.92-.59-1.43-.59-.52 0-1.04.2-1.43.59L10.3 9.45l-7.72 7.72c-.78.78-.78 2.05 0 2.83L4 21.41c.39.39.9.59 1.41.59.51 0 1.02-.2 1.41-.59l7.78-7.78 2.81-2.81c.8-.78.8-2.07 0-2.86zM5.41 20L4 18.59l7.72-7.72 1.47 1.35L5.41 20z\"/>\n",
              "  </svg>\n",
              "      </button>\n",
              "      \n",
              "  <style>\n",
              "    .colab-df-container {\n",
              "      display:flex;\n",
              "      flex-wrap:wrap;\n",
              "      gap: 12px;\n",
              "    }\n",
              "\n",
              "    .colab-df-convert {\n",
              "      background-color: #E8F0FE;\n",
              "      border: none;\n",
              "      border-radius: 50%;\n",
              "      cursor: pointer;\n",
              "      display: none;\n",
              "      fill: #1967D2;\n",
              "      height: 32px;\n",
              "      padding: 0 0 0 0;\n",
              "      width: 32px;\n",
              "    }\n",
              "\n",
              "    .colab-df-convert:hover {\n",
              "      background-color: #E2EBFA;\n",
              "      box-shadow: 0px 1px 2px rgba(60, 64, 67, 0.3), 0px 1px 3px 1px rgba(60, 64, 67, 0.15);\n",
              "      fill: #174EA6;\n",
              "    }\n",
              "\n",
              "    [theme=dark] .colab-df-convert {\n",
              "      background-color: #3B4455;\n",
              "      fill: #D2E3FC;\n",
              "    }\n",
              "\n",
              "    [theme=dark] .colab-df-convert:hover {\n",
              "      background-color: #434B5C;\n",
              "      box-shadow: 0px 1px 3px 1px rgba(0, 0, 0, 0.15);\n",
              "      filter: drop-shadow(0px 1px 2px rgba(0, 0, 0, 0.3));\n",
              "      fill: #FFFFFF;\n",
              "    }\n",
              "  </style>\n",
              "\n",
              "      <script>\n",
              "        const buttonEl =\n",
              "          document.querySelector('#df-4c9b35f6-12ab-45b0-af9d-7c5fa13dd2fa button.colab-df-convert');\n",
              "        buttonEl.style.display =\n",
              "          google.colab.kernel.accessAllowed ? 'block' : 'none';\n",
              "\n",
              "        async function convertToInteractive(key) {\n",
              "          const element = document.querySelector('#df-4c9b35f6-12ab-45b0-af9d-7c5fa13dd2fa');\n",
              "          const dataTable =\n",
              "            await google.colab.kernel.invokeFunction('convertToInteractive',\n",
              "                                                     [key], {});\n",
              "          if (!dataTable) return;\n",
              "\n",
              "          const docLinkHtml = 'Like what you see? Visit the ' +\n",
              "            '<a target=\"_blank\" href=https://colab.research.google.com/notebooks/data_table.ipynb>data table notebook</a>'\n",
              "            + ' to learn more about interactive tables.';\n",
              "          element.innerHTML = '';\n",
              "          dataTable['output_type'] = 'display_data';\n",
              "          await google.colab.output.renderOutput(dataTable, element);\n",
              "          const docLink = document.createElement('div');\n",
              "          docLink.innerHTML = docLinkHtml;\n",
              "          element.appendChild(docLink);\n",
              "        }\n",
              "      </script>\n",
              "    </div>\n",
              "  </div>\n",
              "  "
            ],
            "text/plain": [
              "        City  PM2.5  PM10     NO  ...  Toluene  Xylene  AQI  AQI_Bucket\n",
              "0  Ahmedabad    NaN   NaN   0.92  ...     0.02    0.00  NaN         NaN\n",
              "1  Ahmedabad    NaN   NaN   0.97  ...     5.50    3.77  NaN         NaN\n",
              "2  Ahmedabad    NaN   NaN  17.40  ...    16.40    2.25  NaN         NaN\n",
              "3  Ahmedabad    NaN   NaN   1.70  ...    10.14    1.00  NaN         NaN\n",
              "4  Ahmedabad    NaN   NaN  22.10  ...    18.89    2.78  NaN         NaN\n",
              "\n",
              "[5 rows x 15 columns]"
            ]
          },
          "metadata": {},
          "execution_count": 7
        }
      ]
    },
    {
      "cell_type": "code",
      "source": [
        "df.info()"
      ],
      "metadata": {
        "colab": {
          "base_uri": "https://localhost:8080/"
        },
        "id": "HqIFEWqxpke9",
        "outputId": "3e07e1f9-78d0-48ac-8dbc-bd34fbebc0be"
      },
      "execution_count": null,
      "outputs": [
        {
          "output_type": "stream",
          "name": "stdout",
          "text": [
            "<class 'pandas.core.frame.DataFrame'>\n",
            "RangeIndex: 29531 entries, 0 to 29530\n",
            "Data columns (total 15 columns):\n",
            " #   Column      Non-Null Count  Dtype  \n",
            "---  ------      --------------  -----  \n",
            " 0   City        29531 non-null  object \n",
            " 1   PM2.5       24933 non-null  float64\n",
            " 2   PM10        18391 non-null  float64\n",
            " 3   NO          25949 non-null  float64\n",
            " 4   NO2         25946 non-null  float64\n",
            " 5   NOx         25346 non-null  float64\n",
            " 6   NH3         19203 non-null  float64\n",
            " 7   CO          27472 non-null  float64\n",
            " 8   SO2         25677 non-null  float64\n",
            " 9   O3          25509 non-null  float64\n",
            " 10  Benzene     23908 non-null  float64\n",
            " 11  Toluene     21490 non-null  float64\n",
            " 12  Xylene      11422 non-null  float64\n",
            " 13  AQI         24850 non-null  float64\n",
            " 14  AQI_Bucket  24850 non-null  object \n",
            "dtypes: float64(13), object(2)\n",
            "memory usage: 3.4+ MB\n"
          ]
        }
      ]
    },
    {
      "cell_type": "code",
      "source": [
        "df.shape"
      ],
      "metadata": {
        "colab": {
          "base_uri": "https://localhost:8080/"
        },
        "id": "xr3BCPShpkj9",
        "outputId": "e49a515a-7bdf-4271-b4bd-cc477157cefb"
      },
      "execution_count": null,
      "outputs": [
        {
          "output_type": "execute_result",
          "data": {
            "text/plain": [
              "(29531, 15)"
            ]
          },
          "metadata": {},
          "execution_count": 9
        }
      ]
    },
    {
      "cell_type": "code",
      "source": [
        "df.isnull().sum()"
      ],
      "metadata": {
        "colab": {
          "base_uri": "https://localhost:8080/"
        },
        "id": "Gxvyr6SEpkmD",
        "outputId": "82d9be57-4797-4d6d-f7fc-74c8884f391e"
      },
      "execution_count": null,
      "outputs": [
        {
          "output_type": "execute_result",
          "data": {
            "text/plain": [
              "City              0\n",
              "Date              0\n",
              "PM2.5          4598\n",
              "PM10          11140\n",
              "NO             3582\n",
              "NO2            3585\n",
              "NOx            4185\n",
              "NH3           10328\n",
              "CO             2059\n",
              "SO2            3854\n",
              "O3             4022\n",
              "Benzene        5623\n",
              "Toluene        8041\n",
              "Xylene        18109\n",
              "AQI            4681\n",
              "AQI_Bucket     4681\n",
              "dtype: int64"
            ]
          },
          "metadata": {},
          "execution_count": 23
        }
      ]
    },
    {
      "cell_type": "code",
      "source": [
        "df=df.dropna()"
      ],
      "metadata": {
        "id": "qGcZiVgDpkrP"
      },
      "execution_count": null,
      "outputs": []
    },
    {
      "cell_type": "code",
      "source": [
        "df.shape"
      ],
      "metadata": {
        "colab": {
          "base_uri": "https://localhost:8080/"
        },
        "id": "AZV_SI6kpkwf",
        "outputId": "965eb774-0e90-4101-c2e1-5f855b53bdca"
      },
      "execution_count": null,
      "outputs": [
        {
          "output_type": "execute_result",
          "data": {
            "text/plain": [
              "(6236, 16)"
            ]
          },
          "metadata": {},
          "execution_count": 27
        }
      ]
    },
    {
      "cell_type": "code",
      "source": [
        "sns.boxplot(df['AQI'])"
      ],
      "metadata": {
        "colab": {
          "base_uri": "https://localhost:8080/",
          "height": 357
        },
        "id": "R5KdkaiHpkzC",
        "outputId": "d9560c6d-b71e-4792-8b9b-2e1510af45b3"
      },
      "execution_count": null,
      "outputs": [
        {
          "output_type": "stream",
          "name": "stderr",
          "text": [
            "/usr/local/lib/python3.7/dist-packages/seaborn/_decorators.py:43: FutureWarning: Pass the following variable as a keyword arg: x. From version 0.12, the only valid positional argument will be `data`, and passing other arguments without an explicit keyword will result in an error or misinterpretation.\n",
            "  FutureWarning\n"
          ]
        },
        {
          "output_type": "execute_result",
          "data": {
            "text/plain": [
              "<matplotlib.axes._subplots.AxesSubplot at 0x7f359dffebd0>"
            ]
          },
          "metadata": {},
          "execution_count": 9
        },
        {
          "output_type": "display_data",
          "data": {
            "image/png": "[encoded data removed]",
            "text/plain": [
              "<Figure size 432x288 with 1 Axes>"
            ]
          },
          "metadata": {}
        }
      ]
    },
    {
      "cell_type": "code",
      "source": [
        "Q1=df.quantile(0.25)\n",
        "Q3=df.quantile(0.75)\n",
        "IQR=q3-q1\n",
        "print(IQR)"
      ],
      "metadata": {
        "colab": {
          "base_uri": "https://localhost:8080/"
        },
        "id": "f3SQuR_Fpk1r",
        "outputId": "b712470b-0ab6-4bb7-bba5-9003cd324413"
      },
      "execution_count": null,
      "outputs": [
        {
          "output_type": "stream",
          "name": "stdout",
          "text": [
            "PM2.5      45.5150\n",
            "PM10       83.8000\n",
            "NO         14.3125\n",
            "NO2        27.6550\n",
            "NOx        25.0750\n",
            "NH3        18.1550\n",
            "CO          0.5700\n",
            "SO2         7.8725\n",
            "O3         23.1550\n",
            "Benzene     3.7100\n",
            "Toluene    10.8300\n",
            "Xylene      2.7300\n",
            "AQI        88.0000\n",
            "dtype: float64\n"
          ]
        }
      ]
    },
    {
      "cell_type": "code",
      "source": [
        "df = df[~((df < (Q1 - 1.5 * IQR)) |(df > (Q3 + 1.5 * IQR))).any(axis=1)]"
      ],
      "metadata": {
        "colab": {
          "base_uri": "https://localhost:8080/"
        },
        "id": "C6BOCqMBpk3_",
        "outputId": "7b5314f7-1a96-4d67-fd91-016e74d96112"
      },
      "execution_count": null,
      "outputs": [
        {
          "output_type": "stream",
          "name": "stderr",
          "text": [
            "/usr/local/lib/python3.7/dist-packages/ipykernel_launcher.py:1: FutureWarning: Automatic reindexing on DataFrame vs Series comparisons is deprecated and will raise ValueError in a future version.  Do `left, right = left.align(right, axis=1, copy=False)` before e.g. `left == right`\n",
            "  \"\"\"Entry point for launching an IPython kernel.\n"
          ]
        }
      ]
    },
    {
      "cell_type": "code",
      "source": [
        "df.describe()"
      ],
      "metadata": {
        "id": "kjFDwaDEpk7B",
        "colab": {
          "base_uri": "https://localhost:8080/",
          "height": 364
        },
        "outputId": "e7d23b24-f6c8-4233-afe5-c58fd04ccff0"
      },
      "execution_count": null,
      "outputs": [
        {
          "output_type": "execute_result",
          "data": {
            "text/html": [
              "\n",
              "  <div id=\"df-5ed61d89-d9fe-4d99-8258-3d1dfe9ca1dc\">\n",
              "    <div class=\"colab-df-container\">\n",
              "      <div>\n",
              "<style scoped>\n",
              "    .dataframe tbody tr th:only-of-type {\n",
              "        vertical-align: middle;\n",
              "    }\n",
              "\n",
              "    .dataframe tbody tr th {\n",
              "        vertical-align: top;\n",
              "    }\n",
              "\n",
              "    .dataframe thead th {\n",
              "        text-align: right;\n",
              "    }\n",
              "</style>\n",
              "<table border=\"1\" class=\"dataframe\">\n",
              "  <thead>\n",
              "    <tr style=\"text-align: right;\">\n",
              "      <th></th>\n",
              "      <th>PM2.5</th>\n",
              "      <th>PM10</th>\n",
              "      <th>NO</th>\n",
              "      <th>NO2</th>\n",
              "      <th>NOx</th>\n",
              "      <th>NH3</th>\n",
              "      <th>CO</th>\n",
              "      <th>SO2</th>\n",
              "      <th>O3</th>\n",
              "      <th>Benzene</th>\n",
              "      <th>Toluene</th>\n",
              "      <th>Xylene</th>\n",
              "      <th>AQI</th>\n",
              "    </tr>\n",
              "  </thead>\n",
              "  <tbody>\n",
              "    <tr>\n",
              "      <th>count</th>\n",
              "      <td>4134.000000</td>\n",
              "      <td>4134.000000</td>\n",
              "      <td>4134.000000</td>\n",
              "      <td>4134.000000</td>\n",
              "      <td>4134.000000</td>\n",
              "      <td>4134.000000</td>\n",
              "      <td>4134.000000</td>\n",
              "      <td>4134.000000</td>\n",
              "      <td>4134.000000</td>\n",
              "      <td>4134.000000</td>\n",
              "      <td>4134.000000</td>\n",
              "      <td>4134.000000</td>\n",
              "      <td>4134.000000</td>\n",
              "    </tr>\n",
              "    <tr>\n",
              "      <th>mean</th>\n",
              "      <td>43.265215</td>\n",
              "      <td>94.623524</td>\n",
              "      <td>9.554436</td>\n",
              "      <td>26.290784</td>\n",
              "      <td>21.885133</td>\n",
              "      <td>16.795259</td>\n",
              "      <td>0.663055</td>\n",
              "      <td>9.934383</td>\n",
              "      <td>33.674037</td>\n",
              "      <td>2.186014</td>\n",
              "      <td>7.040157</td>\n",
              "      <td>1.419037</td>\n",
              "      <td>107.031688</td>\n",
              "    </tr>\n",
              "    <tr>\n",
              "      <th>std</th>\n",
              "      <td>25.158400</td>\n",
              "      <td>47.719182</td>\n",
              "      <td>7.357719</td>\n",
              "      <td>14.693927</td>\n",
              "      <td>12.834074</td>\n",
              "      <td>10.776928</td>\n",
              "      <td>0.331084</td>\n",
              "      <td>4.863464</td>\n",
              "      <td>15.758944</td>\n",
              "      <td>1.991924</td>\n",
              "      <td>6.766129</td>\n",
              "      <td>1.532113</td>\n",
              "      <td>51.107528</td>\n",
              "    </tr>\n",
              "    <tr>\n",
              "      <th>min</th>\n",
              "      <td>2.000000</td>\n",
              "      <td>7.800000</td>\n",
              "      <td>0.250000</td>\n",
              "      <td>0.510000</td>\n",
              "      <td>0.600000</td>\n",
              "      <td>0.120000</td>\n",
              "      <td>0.000000</td>\n",
              "      <td>1.150000</td>\n",
              "      <td>1.550000</td>\n",
              "      <td>0.000000</td>\n",
              "      <td>0.000000</td>\n",
              "      <td>0.000000</td>\n",
              "      <td>23.000000</td>\n",
              "    </tr>\n",
              "    <tr>\n",
              "      <th>25%</th>\n",
              "      <td>23.622500</td>\n",
              "      <td>58.345000</td>\n",
              "      <td>4.042500</td>\n",
              "      <td>13.475000</td>\n",
              "      <td>12.190000</td>\n",
              "      <td>9.482500</td>\n",
              "      <td>0.440000</td>\n",
              "      <td>6.220000</td>\n",
              "      <td>21.992500</td>\n",
              "      <td>0.530000</td>\n",
              "      <td>1.800000</td>\n",
              "      <td>0.210000</td>\n",
              "      <td>70.000000</td>\n",
              "    </tr>\n",
              "    <tr>\n",
              "      <th>50%</th>\n",
              "      <td>38.745000</td>\n",
              "      <td>88.800000</td>\n",
              "      <td>7.610000</td>\n",
              "      <td>24.500000</td>\n",
              "      <td>19.665000</td>\n",
              "      <td>13.085000</td>\n",
              "      <td>0.650000</td>\n",
              "      <td>9.020000</td>\n",
              "      <td>31.370000</td>\n",
              "      <td>1.700000</td>\n",
              "      <td>4.845000</td>\n",
              "      <td>0.860000</td>\n",
              "      <td>99.000000</td>\n",
              "    </tr>\n",
              "    <tr>\n",
              "      <th>75%</th>\n",
              "      <td>58.310000</td>\n",
              "      <td>121.245000</td>\n",
              "      <td>12.760000</td>\n",
              "      <td>36.172500</td>\n",
              "      <td>28.227500</td>\n",
              "      <td>22.137500</td>\n",
              "      <td>0.870000</td>\n",
              "      <td>12.650000</td>\n",
              "      <td>43.530000</td>\n",
              "      <td>3.227500</td>\n",
              "      <td>10.167500</td>\n",
              "      <td>2.000000</td>\n",
              "      <td>130.000000</td>\n",
              "    </tr>\n",
              "    <tr>\n",
              "      <th>max</th>\n",
              "      <td>141.210000</td>\n",
              "      <td>274.680000</td>\n",
              "      <td>40.700000</td>\n",
              "      <td>85.010000</td>\n",
              "      <td>75.630000</td>\n",
              "      <td>55.380000</td>\n",
              "      <td>1.910000</td>\n",
              "      <td>26.200000</td>\n",
              "      <td>80.000000</td>\n",
              "      <td>10.170000</td>\n",
              "      <td>29.240000</td>\n",
              "      <td>7.090000</td>\n",
              "      <td>297.000000</td>\n",
              "    </tr>\n",
              "  </tbody>\n",
              "</table>\n",
              "</div>\n",
              "      <button class=\"colab-df-convert\" onclick=\"convertToInteractive('df-5ed61d89-d9fe-4d99-8258-3d1dfe9ca1dc')\"\n",
              "              title=\"Convert this dataframe to an interactive table.\"\n",
              "              style=\"display:none;\">\n",
              "        \n",
              "  <svg xmlns=\"http://www.w3.org/2000/svg\" height=\"24px\"viewBox=\"0 0 24 24\"\n",
              "       width=\"24px\">\n",
              "    <path d=\"M0 0h24v24H0V0z\" fill=\"none\"/>\n",
              "    <path d=\"M18.56 5.44l.94 2.06.94-2.06 2.06-.94-2.06-.94-.94-2.06-.94 2.06-2.06.94zm-11 1L8.5 8.5l.94-2.06 2.06-.94-2.06-.94L8.5 2.5l-.94 2.06-2.06.94zm10 10l.94 2.06.94-2.06 2.06-.94-2.06-.94-.94-2.06-.94 2.06-2.06.94z\"/><path d=\"M17.41 7.96l-1.37-1.37c-.4-.4-.92-.59-1.43-.59-.52 0-1.04.2-1.43.59L10.3 9.45l-7.72 7.72c-.78.78-.78 2.05 0 2.83L4 21.41c.39.39.9.59 1.41.59.51 0 1.02-.2 1.41-.59l7.78-7.78 2.81-2.81c.8-.78.8-2.07 0-2.86zM5.41 20L4 18.59l7.72-7.72 1.47 1.35L5.41 20z\"/>\n",
              "  </svg>\n",
              "      </button>\n",
              "      \n",
              "  <style>\n",
              "    .colab-df-container {\n",
              "      display:flex;\n",
              "      flex-wrap:wrap;\n",
              "      gap: 12px;\n",
              "    }\n",
              "\n",
              "    .colab-df-convert {\n",
              "      background-color: #E8F0FE;\n",
              "      border: none;\n",
              "      border-radius: 50%;\n",
              "      cursor: pointer;\n",
              "      display: none;\n",
              "      fill: #1967D2;\n",
              "      height: 32px;\n",
              "      padding: 0 0 0 0;\n",
              "      width: 32px;\n",
              "    }\n",
              "\n",
              "    .colab-df-convert:hover {\n",
              "      background-color: #E2EBFA;\n",
              "      box-shadow: 0px 1px 2px rgba(60, 64, 67, 0.3), 0px 1px 3px 1px rgba(60, 64, 67, 0.15);\n",
              "      fill: #174EA6;\n",
              "    }\n",
              "\n",
              "    [theme=dark] .colab-df-convert {\n",
              "      background-color: #3B4455;\n",
              "      fill: #D2E3FC;\n",
              "    }\n",
              "\n",
              "    [theme=dark] .colab-df-convert:hover {\n",
              "      background-color: #434B5C;\n",
              "      box-shadow: 0px 1px 3px 1px rgba(0, 0, 0, 0.15);\n",
              "      filter: drop-shadow(0px 1px 2px rgba(0, 0, 0, 0.3));\n",
              "      fill: #FFFFFF;\n",
              "    }\n",
              "  </style>\n",
              "\n",
              "      <script>\n",
              "        const buttonEl =\n",
              "          document.querySelector('#df-5ed61d89-d9fe-4d99-8258-3d1dfe9ca1dc button.colab-df-convert');\n",
              "        buttonEl.style.display =\n",
              "          google.colab.kernel.accessAllowed ? 'block' : 'none';\n",
              "\n",
              "        async function convertToInteractive(key) {\n",
              "          const element = document.querySelector('#df-5ed61d89-d9fe-4d99-8258-3d1dfe9ca1dc');\n",
              "          const dataTable =\n",
              "            await google.colab.kernel.invokeFunction('convertToInteractive',\n",
              "                                                     [key], {});\n",
              "          if (!dataTable) return;\n",
              "\n",
              "          const docLinkHtml = 'Like what you see? Visit the ' +\n",
              "            '<a target=\"_blank\" href=https://colab.research.google.com/notebooks/data_table.ipynb>data table notebook</a>'\n",
              "            + ' to learn more about interactive tables.';\n",
              "          element.innerHTML = '';\n",
              "          dataTable['output_type'] = 'display_data';\n",
              "          await google.colab.output.renderOutput(dataTable, element);\n",
              "          const docLink = document.createElement('div');\n",
              "          docLink.innerHTML = docLinkHtml;\n",
              "          element.appendChild(docLink);\n",
              "        }\n",
              "      </script>\n",
              "    </div>\n",
              "  </div>\n",
              "  "
            ],
            "text/plain": [
              "             PM2.5         PM10  ...       Xylene          AQI\n",
              "count  4134.000000  4134.000000  ...  4134.000000  4134.000000\n",
              "mean     43.265215    94.623524  ...     1.419037   107.031688\n",
              "std      25.158400    47.719182  ...     1.532113    51.107528\n",
              "min       2.000000     7.800000  ...     0.000000    23.000000\n",
              "25%      23.622500    58.345000  ...     0.210000    70.000000\n",
              "50%      38.745000    88.800000  ...     0.860000    99.000000\n",
              "75%      58.310000   121.245000  ...     2.000000   130.000000\n",
              "max     141.210000   274.680000  ...     7.090000   297.000000\n",
              "\n",
              "[8 rows x 13 columns]"
            ]
          },
          "metadata": {},
          "execution_count": 14
        }
      ]
    },
    {
      "cell_type": "code",
      "source": [
        "plt.figure(figsize=(10,5))\n",
        "c=df.corr()\n",
        "sns.heatmap(c,annot=True)"
      ],
      "metadata": {
        "id": "-nEGycMCpk-q",
        "colab": {
          "base_uri": "https://localhost:8080/",
          "height": 381
        },
        "outputId": "d20c0dae-f296-48b1-c105-676e3d4b66f7"
      },
      "execution_count": null,
      "outputs": [
        {
          "output_type": "execute_result",
          "data": {
            "text/plain": [
              "<matplotlib.axes._subplots.AxesSubplot at 0x7f359d42bb10>"
            ]
          },
          "metadata": {},
          "execution_count": 18
        },
        {
          "output_type": "display_data",
          "data": {
            "image/png": "[encoded data removed]",
            "text/plain": [
              "<Figure size 720x360 with 2 Axes>"
            ]
          },
          "metadata": {}
        }
      ]
    },
    {
      "cell_type": "code",
      "source": [
        "df=df.drop(['PM10'],axis=1)"
      ],
      "metadata": {
        "id": "Q_36VBBsGGUC"
      },
      "execution_count": null,
      "outputs": []
    },
    {
      "cell_type": "code",
      "source": [
        "plt.figure(figsize=(10,5))\n",
        "c=df.corr()\n",
        "sns.heatmap(c,annot=True)"
      ],
      "metadata": {
        "colab": {
          "base_uri": "https://localhost:8080/",
          "height": 381
        },
        "id": "EOw29nXWGGWK",
        "outputId": "f6be6306-e714-4236-92cf-86981e3cad56"
      },
      "execution_count": null,
      "outputs": [
        {
          "output_type": "execute_result",
          "data": {
            "text/plain": [
              "<matplotlib.axes._subplots.AxesSubplot at 0x7f35972785d0>"
            ]
          },
          "metadata": {},
          "execution_count": 21
        },
        {
          "output_type": "display_data",
          "data": {
            "image/png": "[encoded data removed]",
            "text/plain": [
              "<Figure size 720x360 with 2 Axes>"
            ]
          },
          "metadata": {}
        }
      ]
    },
    {
      "cell_type": "code",
      "source": [
        "from sklearn.neighbors import KNeighborsClassifier"
      ],
      "metadata": {
        "id": "-xppgguvGGZR"
      },
      "execution_count": null,
      "outputs": []
    },
    {
      "cell_type": "code",
      "source": [
        "import sklearn\n",
        "from sklearn.model_selection import train_test_split\n",
        "from sklearn.preprocessing import StandardScaler\n",
        "from sklearn.metrics import accuracy_score, confusion_matrix, classification_report\n",
        "from sklearn.model_selection import cross_val_score"
      ],
      "metadata": {
        "id": "75-UDFFPGGb2"
      },
      "execution_count": null,
      "outputs": []
    },
    {
      "cell_type": "code",
      "source": [
        "x=df.iloc[:,[1,2,3,4,5,6,7,8,9,10,11,12]].values\n",
        "y=df.iloc[:,13].values"
      ],
      "metadata": {
        "id": "igCQcdGsGGeF"
      },
      "execution_count": null,
      "outputs": []
    },
    {
      "cell_type": "code",
      "source": [
        "x_train,x_test,y_train,y_test=train_test_split(x,y,test_size=0.3,random_state=0)"
      ],
      "metadata": {
        "id": "7B1C2qxbGGgn"
      },
      "execution_count": null,
      "outputs": []
    },
    {
      "cell_type": "code",
      "source": [
        "sc=StandardScaler()\n",
        "x_train=sc.fit_transform(x_train)\n",
        "x_test=sc.transform(x_test)"
      ],
      "metadata": {
        "id": "91kHUpEqGGi5"
      },
      "execution_count": null,
      "outputs": []
    },
    {
      "cell_type": "code",
      "source": [
        "classifier=KNeighborsClassifier(n_neighbors=19,metric='minkowski')\n",
        "classifier.fit(x_train,y_train)"
      ],
      "metadata": {
        "colab": {
          "base_uri": "https://localhost:8080/"
        },
        "id": "_9h7mySgGGlA",
        "outputId": "88ca03f1-0ce8-46b8-cfc9-60943c0c2c01"
      },
      "execution_count": null,
      "outputs": [
        {
          "output_type": "execute_result",
          "data": {
            "text/plain": [
              "KNeighborsClassifier(n_neighbors=19)"
            ]
          },
          "metadata": {},
          "execution_count": 49
        }
      ]
    },
    {
      "cell_type": "code",
      "source": [
        "y_pred=classifier.predict(x_test)"
      ],
      "metadata": {
        "id": "IuHlgDrWGGnv"
      },
      "execution_count": null,
      "outputs": []
    },
    {
      "cell_type": "code",
      "source": [
        "print(np.concatenate((y_pred.reshape(len(y_pred),1),y_test.reshape(len(y_test),1)),1))"
      ],
      "metadata": {
        "colab": {
          "base_uri": "https://localhost:8080/"
        },
        "id": "RirG-pjOGGrH",
        "outputId": "0ebda8bf-f558-48bc-97ed-efecae24bee7"
      },
      "execution_count": null,
      "outputs": [
        {
          "output_type": "stream",
          "name": "stdout",
          "text": [
            "[['Satisfactory' 'Moderate']\n",
            " ['Satisfactory' 'Moderate']\n",
            " ['Satisfactory' 'Moderate']\n",
            " ...\n",
            " ['Satisfactory' 'Satisfactory']\n",
            " ['Satisfactory' 'Moderate']\n",
            " ['Satisfactory' 'Satisfactory']]\n"
          ]
        }
      ]
    },
    {
      "cell_type": "code",
      "source": [
        "accuracy_score(y_test,y_pred)"
      ],
      "metadata": {
        "colab": {
          "base_uri": "https://localhost:8080/"
        },
        "id": "m9c4tE-gIp4n",
        "outputId": "9235d185-7749-4b0b-b1d9-9e1b3bf231e4"
      },
      "execution_count": null,
      "outputs": [
        {
          "output_type": "execute_result",
          "data": {
            "text/plain": [
              "0.8114423851732474"
            ]
          },
          "metadata": {},
          "execution_count": 52
        }
      ]
    },
    {
      "cell_type": "code",
      "source": [
        "accuracy_rate=[]\n",
        "for i in range(1,40):\n",
        "  knn=KNeighborsClassifier(n_neighbors=i)\n",
        "  score=cross_val_score(knn,x,y,cv=10)\n",
        "  accuracy_rate.append(score.mean())"
      ],
      "metadata": {
        "id": "tOP4ivSBKwrW"
      },
      "execution_count": null,
      "outputs": []
    },
    {
      "cell_type": "code",
      "source": [
        "error_rate=[]\n",
        "for i in range(1,40):\n",
        "  knn=KNeighborsClassifier(n_neighbors=i)\n",
        "  score=cross_val_score(knn,x,y,cv=10)\n",
        "  error_rate.append(1-score.mean())\n"
      ],
      "metadata": {
        "id": "8tHm69UuKwt2"
      },
      "execution_count": null,
      "outputs": []
    },
    {
      "cell_type": "code",
      "source": [
        "plt.figure(figsize=(10,5))\n",
        "plt.plot(range(1,40),error_rate)\n",
        "plt.xlabel('k')\n",
        "plt.ylabel('error_rate')\n",
        "plt.title('error_rate vs k value')"
      ],
      "metadata": {
        "colab": {
          "base_uri": "https://localhost:8080/",
          "height": 373
        },
        "id": "ZTzHyWjoKwwx",
        "outputId": "e771373d-cdbc-4222-95b9-fb0c940161c6"
      },
      "execution_count": null,
      "outputs": [
        {
          "output_type": "execute_result",
          "data": {
            "text/plain": [
              "Text(0.5, 1.0, 'error_rate vs k value')"
            ]
          },
          "metadata": {},
          "execution_count": 41
        },
        {
          "output_type": "display_data",
          "data": {
            "image/png": "[encoded data removed]",
            "text/plain": [
              "<Figure size 720x360 with 1 Axes>"
            ]
          },
          "metadata": {}
        }
      ]
    },
    {
      "cell_type": "code",
      "source": [
        ""
      ],
      "metadata": {
        "id": "V81HAau3KwzC"
      },
      "execution_count": null,
      "outputs": []
    },
    {
      "cell_type": "code",
      "source": [
        ""
      ],
      "metadata": {
        "id": "x4FcLyIzKw2E"
      },
      "execution_count": null,
      "outputs": []
    },
    {
      "cell_type": "code",
      "source": [
        ""
      ],
      "metadata": {
        "id": "Niu9xLv_Kw5n"
      },
      "execution_count": null,
      "outputs": []
    }
  ]
}